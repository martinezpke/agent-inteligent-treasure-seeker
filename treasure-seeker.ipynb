{
 "cells": [
  {
   "cell_type": "markdown",
   "metadata": {},
   "source": [
    "## Agente Inteligente 🤖"
   ]
  },
  {
   "cell_type": "markdown",
   "metadata": {},
   "source": [
    "# Búsqueda del Tesoro en la Antigua Selva\n",
    "Eres un intrépido buscador de tesoros en busca de una legendaria reliquia perdida en lo profundo de una antigua selva. Tienes un mapa rudimentario que indica una serie de puntos de referencia en la selva, pero no está claro cómo están conectados. Debes utilizar tu experiencia en programación y habilidades de resolución de problemas para crear un algoritmo que genere un árbol de búsqueda y encuentre el camino más corto hacia el tesoro perdido."
   ]
  }
 ],
 "metadata": {
  "language_info": {
   "name": "python"
  },
  "orig_nbformat": 4
 },
 "nbformat": 4,
 "nbformat_minor": 2
}
