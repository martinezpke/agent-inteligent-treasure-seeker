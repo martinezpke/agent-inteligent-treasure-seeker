{
 "cells": [
  {
   "cell_type": "markdown",
   "metadata": {},
   "source": [
    "## Agente Inteligente 🤖"
   ]
  },
  {
   "cell_type": "markdown",
   "metadata": {},
   "source": [
    "# Búsqueda del Tesoro en la Antigua Selva\n",
    "Eres un intrépido buscador de tesoros en busca de una legendaria reliquia perdida en lo profundo de una antigua selva. Tienes un mapa rudimentario que indica una serie de puntos de referencia en la selva, pero no está claro cómo están conectados. Debes utilizar tu experiencia en programación y habilidades de resolución de problemas para crear un algoritmo que genere un árbol de búsqueda y encuentre el camino más corto hacia el tesoro perdido."
   ]
  },
  {
   "cell_type": "markdown",
   "metadata": {},
   "source": [
    "## Representación del entorno\n",
    "Esta clase nos ayudara a representar la selva como un grafo utilizando una matriz de adyacencia."
   ]
  },
  {
   "cell_type": "code",
   "execution_count": 3,
   "metadata": {},
   "outputs": [],
   "source": [
    "class JungleGraph:\n",
    "    def __init__(self, num_nodes):\n",
    "        # Representa el número total de nodos (puntos de referencia) en el grafo.\n",
    "        self.num_nodes = num_nodes\n",
    "        \n",
    "        \"\"\" \n",
    "            Se crea una matriz de adyacencia adj_matrix.\n",
    "            \n",
    "            inicializada con ceros, donde el tamaño de la matriz es num_nodes x num_nodes.\n",
    "        \n",
    "        \"\"\"\n",
    "        self.adj_matrix = [[0] * num_nodes for _ in range(num_nodes)]\n",
    "    \n",
    "    # Metodo que agrega conexiones\n",
    "    def add_edge(self, node1, node2):\n",
    "        self.adj_matrix[node1][node2] = 1\n",
    "        self.adj_matrix[node2][node1] = 1\n",
    "    \n",
    "    #Metodo que obtiene vecino\n",
    "    def get_neighbors(self, node):\n",
    "        neighbors = []\n",
    "        for i in range(self.num_nodes):\n",
    "            if self.adj_matrix[node][i] == 1:\n",
    "                neighbors.append(i)\n",
    "        return neighbors"
   ]
  },
  {
   "cell_type": "markdown",
   "metadata": {},
   "source": [
    "## Prueba de la clase <b>JungleGraph</b>"
   ]
  },
  {
   "cell_type": "code",
   "execution_count": null,
   "metadata": {},
   "outputs": [],
   "source": [
    "# Crear una instancia de JungleGraph con 6 nodos (puntos de referencia)\n",
    "jungle = JungleGraph(6)\n",
    "\n",
    "# Agregar conexiones entre nodos (bordes en el grafo)\n",
    "jungle.add_edge(0, 1)\n",
    "jungle.add_edge(1, 2)\n",
    "jungle.add_edge(2, 3)\n",
    "jungle.add_edge(3, 4)\n",
    "jungle.add_edge(4, 5)   \n",
    "jungle.add_edge(0, 5)\n",
    "\n",
    "# Obtener los vecinos de un nodo específico\n",
    "print(\"Vecinos del nodo 2:\", jungle.get_neighbors(2))"
   ]
  },
  {
   "cell_type": "markdown",
   "metadata": {},
   "source": [
    "## Generación del árbol de búsqueda\n",
    "Esta funcion `generate_search_tree` nos ayudara a generar un árbol de búsqueda utilizando el algoritmo de búsqueda en amplitud (BFS).\n",
    "\n",
    "Su propósito es generar un árbol de búsqueda a partir de un punto de inicio en el grafo de la selva."
   ]
  },
  {
   "cell_type": "code",
   "execution_count": null,
   "metadata": {},
   "outputs": [],
   "source": [
    "from collections import deque\n",
    "\n",
    "def generate_search_tree(graph, start_node):\n",
    "    search_tree = JungleGraph(graph.num_nodes)\n",
    "    visited = [False] * graph.num_nodes\n",
    "    \n",
    "    queue = deque()\n",
    "    queue.append(start_node)\n",
    "    visited[start_node] = True\n",
    "    \n",
    "    while queue:\n",
    "        current_node = queue.popleft()\n",
    "        \n",
    "        for neighbor in graph.get_neighbors(current_node):\n",
    "            if not visited[neighbor]:\n",
    "                visited[neighbor] = True\n",
    "                queue.append(neighbor)\n",
    "                search_tree.add_edge(current_node, neighbor)\n",
    "                \n",
    "    return search_tree"
   ]
  }
 ],
 "metadata": {
  "kernelspec": {
   "display_name": "venv",
   "language": "python",
   "name": "python3"
  },
  "language_info": {
   "codemirror_mode": {
    "name": "ipython",
    "version": 3
   },
   "file_extension": ".py",
   "mimetype": "text/x-python",
   "name": "python",
   "nbconvert_exporter": "python",
   "pygments_lexer": "ipython3",
   "version": "3.11.5"
  },
  "orig_nbformat": 4
 },
 "nbformat": 4,
 "nbformat_minor": 2
}
